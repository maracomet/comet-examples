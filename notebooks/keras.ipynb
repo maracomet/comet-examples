{
  "cells": [
    {
      "cell_type": "markdown",
      "metadata": {
        "id": "_LeOsK1Hw0wU"
      },
      "source": [
        "<img src=\"https://www.comet.ml/images/logo_comet_light.png\" width=\"200px\"/>\n",
        "\n",
        "# MNIST Example in keras"
      ]
    },
    {
      "cell_type": "markdown",
      "metadata": {
        "id": "pI7-uw26w0wY"
      },
      "source": [
        "This Jupyter notebook demonstrates using the **keras** deep learning framework with [comet.ml](https://www.comet.ml).\n",
        "\n",
        "In this example, we build a keras model, and train it on the MNIST dataset.\n",
        "\n",
        "keras is a framework built on top of lower level libraries, such as TensorFlow, or the Cognitive Toolkit. \n",
        "\n",
        "To find out more, you might find these links helpful:\n",
        "\n",
        "* https://keras.io/\n",
        "* https://en.wikipedia.org/wiki/MNIST_database\n",
        "* http://jupyter.org/\n",
        "\n",
        "Let's get started!"
      ]
    },
    {
      "cell_type": "code",
      "source": [
        "%pip install comet_ml --quiet"
      ],
      "metadata": {
        "id": "WqLaycL3xEca"
      },
      "execution_count": 39,
      "outputs": []
    },
    {
      "cell_type": "markdown",
      "metadata": {
        "id": "ISlUwxFww0wZ"
      },
      "source": [
        "## 1. Imports\n",
        "\n",
        "First, we import the comet_ml library, followed by the keras library, and others if needed. The only requirement here is that **comet_ml be imported first**. If you forget, just restart the kernel, and import them in the proper order."
      ]
    },
    {
      "cell_type": "code",
      "execution_count": 40,
      "metadata": {
        "id": "rZPZLC_7w0wZ"
      },
      "outputs": [],
      "source": [
        "## Import this first:\n",
        "from comet_ml import Experiment\n",
        "\n",
        "## Import the deep learning framework:\n",
        "import tensorflow\n",
        "import keras\n",
        "from keras.datasets import mnist\n",
        "from keras.layers import Dense, Dropout\n",
        "from keras.models import Sequential, Model\n",
        "from tensorflow.keras.optimizers import RMSprop\n",
        "from keras.callbacks import Callback\n",
        "from keras.preprocessing import image\n",
        "from keras.utils import np_utils"
      ]
    },
    {
      "cell_type": "markdown",
      "metadata": {
        "id": "YwZfEM_kw0wb"
      },
      "source": [
        "## 2. Dataset"
      ]
    },
    {
      "cell_type": "markdown",
      "metadata": {
        "id": "vnNy2ZMfw0wc"
      },
      "source": [
        "As a simple demo, we'll start with the the MNIST dataset. In keras, we use the `load_data` method to download and load the data:"
      ]
    },
    {
      "cell_type": "code",
      "execution_count": 41,
      "metadata": {
        "id": "aMAHwWZaw0wc"
      },
      "outputs": [],
      "source": [
        "# the data, shuffled and split between train and test sets\n",
        "(x_train, y_train), (x_test, y_test) = mnist.load_data()"
      ]
    },
    {
      "cell_type": "markdown",
      "metadata": {
        "id": "YJ1bKSvcw0wd"
      },
      "source": [
        "Let's see what we have here. \n",
        "\n",
        "* x_train are the training inputs\n",
        "* y_train are the training targets\n",
        "* x_test are the test/validation inputs\n",
        "* y_test are the test/validation targets\n",
        "\n",
        "These are numpy tensors, so we can get the shape of each:"
      ]
    },
    {
      "cell_type": "code",
      "execution_count": 42,
      "metadata": {
        "colab": {
          "base_uri": "https://localhost:8080/"
        },
        "id": "8T5Cz_22w0we",
        "outputId": "cbfd8f35-cc90-4a96-f39d-7cca12a9faac"
      },
      "outputs": [
        {
          "output_type": "execute_result",
          "data": {
            "text/plain": [
              "(60000, 28, 28)"
            ]
          },
          "metadata": {},
          "execution_count": 42
        }
      ],
      "source": [
        "x_train.shape"
      ]
    },
    {
      "cell_type": "markdown",
      "metadata": {
        "id": "W83GnYKrw0we"
      },
      "source": [
        "That is, there are 60,000 training inputs, each 28 x 28. These are pictures of numbers.\n",
        "\n",
        "To visualize the patterns, we write a little function."
      ]
    },
    {
      "cell_type": "code",
      "execution_count": 43,
      "metadata": {
        "id": "LQGQfBCjw0wf"
      },
      "outputs": [],
      "source": [
        "def array_to_image(array, shape, scale):\n",
        "    img = image.array_to_img(array.reshape([int(s) for s in shape]))\n",
        "    x, y = img.size\n",
        "    img = img.resize((x * scale, y * scale))\n",
        "    return img"
      ]
    },
    {
      "cell_type": "markdown",
      "metadata": {
        "id": "MCAKqDfLw0wf"
      },
      "source": [
        "We call it by providing a vector, a shape (rows, cols, color depth), and a scaling factor:"
      ]
    },
    {
      "cell_type": "code",
      "execution_count": 44,
      "metadata": {
        "colab": {
          "base_uri": "https://localhost:8080/",
          "height": 157
        },
        "id": "eFXhOMg7w0wg",
        "outputId": "68494343-bd8c-4b91-d38f-29835f4761b1"
      },
      "outputs": [
        {
          "output_type": "execute_result",
          "data": {
            "text/plain": [
              "<PIL.Image.Image image mode=L size=140x140 at 0x7FE4FD720450>"
            ],
            "image/png": "[encoded data removed]"
          },
          "metadata": {},
          "execution_count": 44
        }
      ],
      "source": [
        "array_to_image(x_train[0], (28, 28, 1), 5)"
      ]
    },
    {
      "cell_type": "markdown",
      "metadata": {
        "id": "ji9wMswlw0wg"
      },
      "source": [
        "Often, we need to do a little preparation of the data to get it ready for the learning model. Here, we flatten the inputs, and put input values in the range 0 - 1:"
      ]
    },
    {
      "cell_type": "code",
      "execution_count": 45,
      "metadata": {
        "colab": {
          "base_uri": "https://localhost:8080/"
        },
        "id": "KxE_VWJXw0wg",
        "outputId": "907d911f-af33-4bdb-ffa5-aacfce494405"
      },
      "outputs": [
        {
          "output_type": "stream",
          "name": "stdout",
          "text": [
            "60000 train samples\n",
            "10000 test samples\n"
          ]
        }
      ],
      "source": [
        "x_train = x_train.reshape(60000, 784)\n",
        "x_test = x_test.reshape(10000, 784)\n",
        "x_train = x_train.astype(\"float32\")\n",
        "x_test = x_test.astype(\"float32\")\n",
        "x_train /= 255\n",
        "x_test /= 255\n",
        "print(x_train.shape[0], \"train samples\")\n",
        "print(x_test.shape[0], \"test samples\")"
      ]
    },
    {
      "cell_type": "markdown",
      "metadata": {
        "id": "OgFpufrZw0wh"
      },
      "source": [
        "Also, we examine the targets:"
      ]
    },
    {
      "cell_type": "code",
      "execution_count": 46,
      "metadata": {
        "colab": {
          "base_uri": "https://localhost:8080/"
        },
        "id": "3W-2mDQgw0wh",
        "outputId": "f441e25d-bade-4a23-bbfa-7d0db003b002"
      },
      "outputs": [
        {
          "output_type": "execute_result",
          "data": {
            "text/plain": [
              "(60000,)"
            ]
          },
          "metadata": {},
          "execution_count": 46
        }
      ],
      "source": [
        "y_train.shape"
      ]
    },
    {
      "cell_type": "markdown",
      "metadata": {
        "id": "QWsdGkWtw0wh"
      },
      "source": [
        "We see that they are just 60,000 values. These are the integer representation of the picture. In this example, we wish to have 10 outputs representing, in a way, the probability of what the picture represents. \n",
        "\n",
        "To turn each number 0-9 into a 10-output vector for training, we use the `keras.utils.to_categorical` function to turn it into a so-called \"one hot\" representation:"
      ]
    },
    {
      "cell_type": "code",
      "execution_count": 47,
      "metadata": {
        "id": "pGqPTvlXw0wi"
      },
      "outputs": [],
      "source": [
        "# convert class vectors to binary class matrices\n",
        "y_train = keras.utils.np_utils.to_categorical(y_train, 10)\n",
        "y_test = keras.utils.np_utils.to_categorical(y_test, 10)"
      ]
    },
    {
      "cell_type": "markdown",
      "metadata": {
        "id": "vN9mL7oow0wi"
      },
      "source": [
        "We then can check to see if the picture above is labeled correctly:"
      ]
    },
    {
      "cell_type": "code",
      "execution_count": 48,
      "metadata": {
        "colab": {
          "base_uri": "https://localhost:8080/"
        },
        "id": "WcbQk8NUw0wi",
        "outputId": "51e48b61-217b-443c-c39e-977cb920119b"
      },
      "outputs": [
        {
          "output_type": "execute_result",
          "data": {
            "text/plain": [
              "array([0., 0., 0., 0., 0., 1., 0., 0., 0., 0.], dtype=float32)"
            ]
          },
          "metadata": {},
          "execution_count": 48
        }
      ],
      "source": [
        "y_train[0]"
      ]
    },
    {
      "cell_type": "markdown",
      "metadata": {
        "id": "AxqaKQm7w0wj"
      },
      "source": [
        "Indeed, the first pattern is a 5. We can also visualize this vector like so:"
      ]
    },
    {
      "cell_type": "code",
      "execution_count": 49,
      "metadata": {
        "colab": {
          "base_uri": "https://localhost:8080/",
          "height": 37
        },
        "id": "BhldiCu9w0wj",
        "outputId": "93d384d8-be08-4815-c8d3-0a0544b3f9a0"
      },
      "outputs": [
        {
          "output_type": "execute_result",
          "data": {
            "text/plain": [
              "<PIL.Image.Image image mode=L size=200x20 at 0x7FE50603A950>"
            ],
            "image/png": "[encoded data removed]"
          },
          "metadata": {},
          "execution_count": 49
        }
      ],
      "source": [
        "array_to_image(y_train[0], (1, 10, 1), 20)"
      ]
    },
    {
      "cell_type": "markdown",
      "metadata": {
        "id": "Vd70jL5yw0wj"
      },
      "source": [
        "We can see the \"one hot\" representation showing that y_train[0][5] is 1.0, and all of the rest are zeros."
      ]
    },
    {
      "cell_type": "markdown",
      "metadata": {
        "id": "IVgM6Aa_w0wj"
      },
      "source": [
        "Now we can create a model, and train the network:"
      ]
    },
    {
      "cell_type": "markdown",
      "metadata": {
        "id": "qqRVPZzzw0wj"
      },
      "source": [
        "## 3. Model\n",
        "\n",
        "In this example, we will build a 5-layer (counting input and output layers), fully-connected neural network. We create a function to make the model for us:"
      ]
    },
    {
      "cell_type": "code",
      "execution_count": 50,
      "metadata": {
        "id": "i7R2BTW-w0wk"
      },
      "outputs": [],
      "source": [
        "def build_model_graph(input_shape=(784,)):\n",
        "    model = Sequential()\n",
        "    model.add(Dense(128, activation=\"sigmoid\", input_shape=(784,)))\n",
        "    model.add(Dense(128, activation=\"sigmoid\"))\n",
        "    model.add(Dense(128, activation=\"sigmoid\"))\n",
        "    model.add(Dense(10, activation=\"softmax\"))\n",
        "    model.compile(\n",
        "        loss=\"categorical_crossentropy\", optimizer=RMSprop(), \n",
        "        metrics=[\"accuracy\"]\n",
        "    )\n",
        "    return model"
      ]
    },
    {
      "cell_type": "markdown",
      "metadata": {
        "id": "LnVty_Ppw0wk"
      },
      "source": [
        "And call it to create the model:"
      ]
    },
    {
      "cell_type": "code",
      "execution_count": 51,
      "metadata": {
        "id": "jNbE7pJKw0wk"
      },
      "outputs": [],
      "source": [
        "model = build_model_graph()"
      ]
    },
    {
      "cell_type": "markdown",
      "metadata": {
        "id": "MTFwCLkvw0wk"
      },
      "source": [
        "We use the summary method to check the details:"
      ]
    },
    {
      "cell_type": "code",
      "execution_count": 52,
      "metadata": {
        "colab": {
          "base_uri": "https://localhost:8080/"
        },
        "id": "Z_s1irjVw0wl",
        "outputId": "8e3b28e1-1930-4a2e-967c-3d854715582c"
      },
      "outputs": [
        {
          "output_type": "stream",
          "name": "stdout",
          "text": [
            "Model: \"sequential_1\"\n",
            "_________________________________________________________________\n",
            " Layer (type)                Output Shape              Param #   \n",
            "=================================================================\n",
            " dense_4 (Dense)             (None, 128)               100480    \n",
            "                                                                 \n",
            " dense_5 (Dense)             (None, 128)               16512     \n",
            "                                                                 \n",
            " dense_6 (Dense)             (None, 128)               16512     \n",
            "                                                                 \n",
            " dense_7 (Dense)             (None, 10)                1290      \n",
            "                                                                 \n",
            "=================================================================\n",
            "Total params: 134,794\n",
            "Trainable params: 134,794\n",
            "Non-trainable params: 0\n",
            "_________________________________________________________________\n"
          ]
        }
      ],
      "source": [
        "model.summary()"
      ]
    },
    {
      "cell_type": "markdown",
      "metadata": {
        "id": "33HLjncnw0wl"
      },
      "source": [
        "## 4. Experiment"
      ]
    },
    {
      "cell_type": "markdown",
      "metadata": {
        "id": "FkZHMBg1w0wl"
      },
      "source": [
        "In order for comet.ml to log your experiment and results, you need to create an Experiment instance. To do this, you'll need two items:\n",
        "\n",
        "* a Comet `api_key`\n",
        "* a `project_name`\n",
        "\n",
        "You can find your Comet api_key when you log in to https://www.comet.ml and click on your project. You should see a screen that looks similar to:\n",
        "\n",
        "![comet login screen](https://github.com/maracomet/comet-examples/blob/master/notebooks/comet-key.png?raw=1)\n",
        "\n",
        "Click on the API key to copy the key to your clipboard. \n",
        "\n",
        "It is recommended that you put your COMET_API_KEY in a `.env` key in the current directory. You can do that using the following code. Put it in a cell, replace the `...` with your key, and then delete the cell. That way your key stays private.\n",
        "\n",
        "```ipython\n",
        "%%writefile .env\n",
        "\n",
        "COMET_API_KEY=...\n",
        "```"
      ]
    },
    {
      "cell_type": "markdown",
      "metadata": {
        "id": "p1mPlQJOw0wl"
      },
      "source": [
        "It is also recommended that you use your project_name in the cell, so you can match the results with this code. You can make up a new name, or add this experiment to a project that already exists."
      ]
    },
    {
      "cell_type": "code",
      "execution_count": 53,
      "metadata": {
        "colab": {
          "base_uri": "https://localhost:8080/"
        },
        "id": "4rz3L0p5w0wl",
        "outputId": "83ae51c0-7ecb-4456-f478-90549fecf7ca"
      },
      "outputs": [
        {
          "output_type": "stream",
          "name": "stderr",
          "text": [
            "COMET WARNING: As you are running in a Jupyter environment, you will need to call `experiment.end()` when finished to ensure all metrics and code are logged before exiting.\n",
            "COMET ERROR: Failed to calculate active processors count. Fall back to default CPU count 1\n",
            "COMET INFO: Couldn't find a Git repository in '/content' nor in any parent directory. You can override where Comet is looking for a Git Patch by setting the configuration `COMET_GIT_DIRECTORY`\n",
            "COMET INFO: Experiment is live on comet.ml https://www.comet.ml/maracomet/test-git-reproduce/4a02ae07c8a4467fae65e328766eab4a\n",
            "\n"
          ]
        }
      ],
      "source": [
        "experiment = Experiment(api_key=\"e1OrBiag5jinfb7pMlzbXyg3P\", project_name=\"test-git-reproduce\")"
      ]
    },
    {
      "cell_type": "code",
      "source": [
        "experiment.set_name(\"git notebook colab\")\n",
        "# experiment.add_tag(\"auto\")"
      ],
      "metadata": {
        "id": "LQGqDZM5yrzJ"
      },
      "execution_count": 54,
      "outputs": []
    },
    {
      "cell_type": "markdown",
      "metadata": {
        "id": "8zbUb1qew0wm"
      },
      "source": [
        "If you get the error that ends with:\n",
        "\n",
        "<pre style=\"background-color:#FDD;\">\n",
        "ValueError: Comet.ml requires an API key. Please provide as the first argument to Experiment(api_key) or as an environment variable named COMET_API_KEY \n",
        "</pre>\n",
        "\n",
        "then that means that either you don't have an `.env` file in this directory, or the key is invalid.\n",
        "\n",
        "Otherwise, you should see the message:\n",
        "\n",
        "<pre style=\"background-color:#FDD;\">\n",
        "COMET INFO: Experiment is live on comet.ml https://www.comet.ml/...\n",
        "</pre>\n",
        "\n",
        "If you click the URL, then a new page will open up. But, even better, you can execute the following line to see the experiment in the current notebook:"
      ]
    },
    {
      "cell_type": "code",
      "execution_count": 55,
      "metadata": {
        "colab": {
          "base_uri": "https://localhost:8080/",
          "height": 821
        },
        "id": "F_oLYwX7w0wo",
        "outputId": "9933dbcc-1bb8-49f3-b146-5aa659455a8e"
      },
      "outputs": [
        {
          "output_type": "display_data",
          "data": {
            "text/plain": [
              "<IPython.lib.display.IFrame at 0x7fe4fb6f6ed0>"
            ],
            "text/html": [
              "\n",
              "        <iframe\n",
              "            width=\"100%\"\n",
              "            height=\"800px\"\n",
              "            src=\"https://www.comet.ml/maracomet/test-git-reproduce/4a02ae07c8a4467fae65e328766eab4a\"\n",
              "            frameborder=\"0\"\n",
              "            allowfullscreen\n",
              "        ></iframe>\n",
              "        "
            ]
          },
          "metadata": {}
        }
      ],
      "source": [
        "experiment.display()"
      ]
    },
    {
      "cell_type": "markdown",
      "metadata": {
        "id": "QnCIkxFgw0wo"
      },
      "source": [
        "By the way, the line `experiment.display()` works when you are at the console too. It will open up a window in your browser.\n",
        "\n",
        "By default, the above display shows the Charts tab, but says \"No plotable data points were found.\" Indeed, we haven't logged any data yet. Let's log some data!\n",
        "\n",
        "Comet.ml has a method to log a hash of the dataset, so that we can see if it changes:"
      ]
    },
    {
      "cell_type": "code",
      "execution_count": 56,
      "metadata": {
        "id": "_NehZel3w0wp"
      },
      "outputs": [],
      "source": [
        "experiment.log_dataset_hash(x_train)"
      ]
    },
    {
      "cell_type": "markdown",
      "metadata": {
        "id": "_ST0-2WIw0wp"
      },
      "source": [
        "If you view the \"Hyper parameters\" tab in the display, you should now see \"dataset_hash\" and a value in the table.\n",
        "\n",
        "Now, we are ready for training!"
      ]
    },
    {
      "cell_type": "markdown",
      "metadata": {
        "id": "PpEXkI8ww0wp"
      },
      "source": [
        "## 5. Training\n",
        "\n",
        "For this example, we are going to use our `array_to_image` function to watch the hidden layer representations for a particular input change over time. In addition, we will log these images to Comet.ml.\n",
        "\n",
        "First, we construct a keras callback that will call our array_to_image and log it to Comet.ml."
      ]
    },
    {
      "cell_type": "code",
      "execution_count": 57,
      "metadata": {
        "id": "3o8onUtbw0wp"
      },
      "outputs": [],
      "source": [
        "class VizCallback(Callback):\n",
        "    def __init__(self, model, tensor, filename, experiment, shape):\n",
        "        self.mymodel = model\n",
        "        self.tensor = tensor\n",
        "        self.filename = filename\n",
        "        self.experiment = experiment\n",
        "        self.shape = shape\n",
        "\n",
        "    def on_epoch_end(self, epoch, logs=None):\n",
        "        if \"%s\" in self.filename:\n",
        "            filename = self.filename % (epoch,)\n",
        "        else:\n",
        "            filename = self.filename\n",
        "        log_image(self.mymodel, self.tensor, filename,\n",
        "                  self.experiment, self.shape)"
      ]
    },
    {
      "cell_type": "markdown",
      "metadata": {
        "id": "sZIzMoPxw0wp"
      },
      "source": [
        "Comet.ml requires that we give the `experiment.log_image()` a filename, so we wrap our function in a function that will save the image to a file, and call log_image:"
      ]
    },
    {
      "cell_type": "code",
      "execution_count": 58,
      "metadata": {
        "id": "bTEt6Afaw0wp"
      },
      "outputs": [],
      "source": [
        "def log_image(model, tensor, filename, experiment, shape):\n",
        "    output = model.predict(tensor)\n",
        "    img = array_to_image(output[0], shape, 10)\n",
        "    img.save(filename)\n",
        "    experiment.log_image(filename)"
      ]
    },
    {
      "cell_type": "markdown",
      "metadata": {
        "id": "tETF4prZw0wp"
      },
      "source": [
        "Because we want to see the hidden layer activations, we need to build a model between the input and that hidden layer. We can do that with this function:"
      ]
    },
    {
      "cell_type": "code",
      "execution_count": 59,
      "metadata": {
        "id": "ERTYG-8Dw0wq"
      },
      "outputs": [],
      "source": [
        "def build_viz_model(model, visualize_layer):\n",
        "    viz_model = Model(inputs=[model.input],\n",
        "                      outputs=[model.layers[visualize_layer].output])\n",
        "    return viz_model"
      ]
    },
    {
      "cell_type": "markdown",
      "metadata": {
        "id": "RuO3ldddw0wq"
      },
      "source": [
        "Now we can define the models and callbacks for the hidden layers:"
      ]
    },
    {
      "cell_type": "code",
      "execution_count": 60,
      "metadata": {
        "id": "coJ_on66w0wq"
      },
      "outputs": [],
      "source": [
        "viz_model1 = build_viz_model(model, 1)\n",
        "viz_model3 = build_viz_model(model, 3)\n",
        "\n",
        "callbacks = [\n",
        "    VizCallback(viz_model1, x_train[0:1], \"hidden-epoch-%s.gif\",\n",
        "                experiment, (8,16,1)),\n",
        "    VizCallback(viz_model3, x_train[0:1], \"output-epoch-%s.gif\",\n",
        "                experiment, (1,10,1)),\n",
        "]"
      ]
    },
    {
      "cell_type": "markdown",
      "metadata": {
        "id": "nBsn-hbQw0wq"
      },
      "source": [
        "Now, we merely need to call `model.fit()`:"
      ]
    },
    {
      "cell_type": "code",
      "execution_count": 61,
      "metadata": {
        "colab": {
          "base_uri": "https://localhost:8080/"
        },
        "id": "wcxYULClw0wq",
        "outputId": "7d49911c-c94e-4da3-a359-b8a6677b446c"
      },
      "outputs": [
        {
          "output_type": "stream",
          "name": "stdout",
          "text": [
            "Epoch 1/10\n",
            "500/500 [==============================] - 4s 6ms/step - loss: 0.7685 - accuracy: 0.7812 - val_loss: 0.3240 - val_accuracy: 0.9015\n",
            "Epoch 2/10\n",
            "500/500 [==============================] - 3s 6ms/step - loss: 0.2588 - accuracy: 0.9238 - val_loss: 0.2138 - val_accuracy: 0.9363\n",
            "Epoch 3/10\n",
            "500/500 [==============================] - 5s 11ms/step - loss: 0.1854 - accuracy: 0.9439 - val_loss: 0.1682 - val_accuracy: 0.9503\n",
            "Epoch 4/10\n",
            "500/500 [==============================] - 5s 9ms/step - loss: 0.1465 - accuracy: 0.9562 - val_loss: 0.1376 - val_accuracy: 0.9585\n",
            "Epoch 5/10\n",
            "500/500 [==============================] - 4s 8ms/step - loss: 0.1205 - accuracy: 0.9636 - val_loss: 0.1309 - val_accuracy: 0.9619\n",
            "Epoch 6/10\n",
            "500/500 [==============================] - 3s 6ms/step - loss: 0.1021 - accuracy: 0.9700 - val_loss: 0.1147 - val_accuracy: 0.9667\n",
            "Epoch 7/10\n",
            "500/500 [==============================] - 3s 6ms/step - loss: 0.0878 - accuracy: 0.9740 - val_loss: 0.0980 - val_accuracy: 0.9700\n",
            "Epoch 8/10\n",
            "500/500 [==============================] - 3s 6ms/step - loss: 0.0766 - accuracy: 0.9773 - val_loss: 0.0964 - val_accuracy: 0.9713\n",
            "Epoch 9/10\n",
            "500/500 [==============================] - 3s 6ms/step - loss: 0.0664 - accuracy: 0.9800 - val_loss: 0.0951 - val_accuracy: 0.9725\n",
            "Epoch 10/10\n",
            "500/500 [==============================] - 3s 5ms/step - loss: 0.0595 - accuracy: 0.9820 - val_loss: 0.0861 - val_accuracy: 0.9743\n"
          ]
        }
      ],
      "source": [
        "model.fit(\n",
        "    x_train, y_train,\n",
        "    batch_size=120,\n",
        "    epochs=10,\n",
        "    validation_data=(x_test, y_test),\n",
        "    callbacks=callbacks);"
      ]
    },
    {
      "cell_type": "markdown",
      "metadata": {
        "id": "nn5NETi6w0wq"
      },
      "source": [
        "Now, if you visit the \"Charts\" tab in the display, you should see plots of the accuracy (acc), loss, validation accuracy (val_acc), and validation loss (val_loss).\n",
        "\n",
        "You'll also see information on many of the tabs, including images on the \"Graphics\" tab. You won't see anything on the \"Code\" tab, yet. That will be updated last when we are in a Jupyter environment (like this notebook)."
      ]
    },
    {
      "cell_type": "markdown",
      "metadata": {
        "id": "xtKuxtCCw0wq"
      },
      "source": [
        "# 6. Logging\n",
        "\n",
        "In keras, Comet will automatically log:\n",
        "\n",
        "* the model description\n",
        "* the training loss\n",
        "* the training accuracy\n",
        "* the training validation loss\n",
        "* the training validation accuracy\n",
        "* the source code\n",
        "\n",
        "To log other items manually, you can use any of the following:\n",
        "\n",
        "* `experiment.log_html(HTML_STRING)`\n",
        "* `experiment.html_log_url(URL_STRING)`\n",
        "* `experiment.image(FILENAME)`\n",
        "* `experiment.log_dataset_hash(DATASET)`\n",
        "* `experiment.log_other(KEY, VALUE)`\n",
        "* `experiment.log_metric(NAME, VALUE)`\n",
        "* `experiment.log_parameter(PARAMETER, VALUE)`\n",
        "* `experiment.log_figure(NAME, FIGURE)`\n",
        "\n",
        "For complete details, please see: \n",
        "\n",
        "https://www.comet.ml/docs/python-sdk/Experiment/#experiment"
      ]
    },
    {
      "cell_type": "markdown",
      "metadata": {
        "id": "l_mh1vWbw0wq"
      },
      "source": [
        "# 6. Finish\n",
        "\n",
        "Finall, we are ready to tell Comet that our experiment is complete. You don't need to do this is a script that ends. But in Jupyter, we need to indicate that the experiment is finished. We do that with the `experiment.end()` method:"
      ]
    },
    {
      "cell_type": "code",
      "execution_count": 62,
      "metadata": {
        "colab": {
          "base_uri": "https://localhost:8080/"
        },
        "id": "8h6zhGklw0wq",
        "outputId": "ca245391-d13a-4184-bc2c-33a21155b541"
      },
      "outputs": [
        {
          "output_type": "stream",
          "name": "stderr",
          "text": [
            "COMET INFO: ---------------------------\n",
            "COMET INFO: Comet.ml Experiment Summary\n",
            "COMET INFO: ---------------------------\n",
            "COMET INFO:   Data:\n",
            "COMET INFO:     display_summary_level : 1\n",
            "COMET INFO:     url                   : https://www.comet.ml/maracomet/test-git-reproduce/4a02ae07c8a4467fae65e328766eab4a\n",
            "COMET INFO:   Metrics [count] (min, max):\n",
            "COMET INFO:     accuracy [10]                : (0.78125, 0.9819999933242798)\n",
            "COMET INFO:     batch_accuracy [500]         : (0.10454545170068741, 1.0)\n",
            "COMET INFO:     batch_loss [500]             : (0.02601618878543377, 2.4689364433288574)\n",
            "COMET INFO:     epoch_duration [10]          : (2.6227596300000187, 5.277924754999958)\n",
            "COMET INFO:     loss [10]                    : (0.05946832150220871, 0.7685490846633911)\n",
            "COMET INFO:     val_accuracy [10]            : (0.9014999866485596, 0.9743000268936157)\n",
            "COMET INFO:     val_loss [10]                : (0.08605840802192688, 0.323989599943161)\n",
            "COMET INFO:     validate_batch_accuracy [90] : (0.8682539463043213, 1.0)\n",
            "COMET INFO:     validate_batch_loss [90]     : (0.016980480402708054, 0.413552850484848)\n",
            "COMET INFO:   Others:\n",
            "COMET INFO:     Name             : git notebook colab\n",
            "COMET INFO:     notebook_url     : https://colab.research.google.com/notebook#fileId=https%3A%2F%2Fgithub.com%2Fmaracomet%2Fcomet-examples%2Fblob%2Fmaster%2Fnotebooks%2Fkeras.ipynb\n",
            "COMET INFO:     trainable_params : 134794\n",
            "COMET INFO:   Parameters:\n",
            "COMET INFO:     RMSprop_centered      : False\n",
            "COMET INFO:     RMSprop_decay         : 0.0\n",
            "COMET INFO:     RMSprop_epsilon       : 1e-07\n",
            "COMET INFO:     RMSprop_learning_rate : 0.001\n",
            "COMET INFO:     RMSprop_momentum      : 0.0\n",
            "COMET INFO:     RMSprop_name          : RMSprop\n",
            "COMET INFO:     RMSprop_rho           : 0.9\n",
            "COMET INFO:     epochs                : 10\n",
            "COMET INFO:     steps                 : 500\n",
            "COMET INFO:   Uploads:\n",
            "COMET INFO:     environment details : 1\n",
            "COMET INFO:     filename            : 1\n",
            "COMET INFO:     images              : 20\n",
            "COMET INFO:     installed packages  : 1\n",
            "COMET INFO:     model graph         : 1\n",
            "COMET INFO:     notebook            : 2\n",
            "COMET INFO:     os packages         : 1\n",
            "COMET INFO:     source_code         : 1\n",
            "COMET INFO: ---------------------------\n",
            "COMET INFO: Uploading 1 metrics, params and output messages\n"
          ]
        }
      ],
      "source": [
        "experiment.end()"
      ]
    },
    {
      "cell_type": "markdown",
      "metadata": {
        "id": "706kGDnpw0wr"
      },
      "source": [
        "That's it! If you have any comments or questions, please visit us on https://cometml.slack.com"
      ]
    }
  ],
  "metadata": {
    "kernelspec": {
      "display_name": "Python 3",
      "language": "python",
      "name": "python3"
    },
    "language_info": {
      "codemirror_mode": {
        "name": "ipython",
        "version": 3
      },
      "file_extension": ".py",
      "mimetype": "text/x-python",
      "name": "python",
      "nbconvert_exporter": "python",
      "pygments_lexer": "ipython3",
      "version": "3.6.6"
    },
    "colab": {
      "name": "keras.ipynb",
      "provenance": []
    }
  },
  "nbformat": 4,
  "nbformat_minor": 0
}